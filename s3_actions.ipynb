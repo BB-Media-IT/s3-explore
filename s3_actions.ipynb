{
 "cells": [
  {
   "cell_type": "code",
   "execution_count": 1,
   "id": "a6462ce3-445d-4bda-a4c4-af6dbda56d19",
   "metadata": {},
   "outputs": [],
   "source": [
    "import os\n",
    "import pandas as pd\n",
    "import numpy as np\n",
    "from glob import glob\n",
    "from boto3 import session\n",
    "from io import BytesIO"
   ]
  },
  {
   "cell_type": "markdown",
   "id": "42a1314c-8b5b-483b-97ad-d7faa55fc0d0",
   "metadata": {},
   "source": [
    "### Constantes"
   ]
  },
  {
   "cell_type": "code",
   "execution_count": 7,
   "id": "f98b9160-2256-4071-b481-fd6e8ba487f9",
   "metadata": {},
   "outputs": [],
   "source": [
    "REGION='nyc3',\n",
    "ENDPOINT='https://nyc3.digitaloceanspaces.com',\n",
    "AWS_KEY='',\n",
    "AWS_SECRET=''\n",
    "BUCKET='bb-bubbo'"
   ]
  },
  {
   "cell_type": "markdown",
   "id": "0e634ec3-9b5d-4c00-9913-4c6fcac35319",
   "metadata": {
    "jp-MarkdownHeadingCollapsed": true
   },
   "source": [
    "### Conectar S3"
   ]
  },
  {
   "cell_type": "code",
   "execution_count": 8,
   "id": "9a2de821-feee-4641-8dbc-40a0a81e11da",
   "metadata": {},
   "outputs": [],
   "source": [
    "def client_s3():\n",
    "    conn = session.Session()\n",
    "    client_s3 = conn.client(\n",
    "        's3',\n",
    "        region_name=REGION,\n",
    "        endpoint_url=ENDPOINT,\n",
    "        aws_access_key_id=AWS_KEY,\n",
    "        aws_secret_access_key=AWS_SECRET\n",
    "    )\n",
    "\n",
    "    return client_s3"
   ]
  },
  {
   "cell_type": "code",
   "execution_count": 3,
   "id": "9ce0a4e1-6ff7-4fc3-8cbc-8d9ccbb415d5",
   "metadata": {},
   "outputs": [],
   "source": [
    "client = client_s3()"
   ]
  },
  {
   "cell_type": "markdown",
   "id": "3fbce5f5-12f2-4975-9f25-3ae7e1683899",
   "metadata": {
    "jp-MarkdownHeadingCollapsed": true
   },
   "source": [
    "### Obtener Objetos"
   ]
  },
  {
   "cell_type": "code",
   "execution_count": 10,
   "id": "ca6466a7-206d-4c38-b690-a286f7ef0856",
   "metadata": {},
   "outputs": [],
   "source": [
    "paginator = client.get_paginator('list_objects_v2')\n",
    "list_paginas = []\n",
    "\n",
    "pages = paginator.paginate(Bucket=BUCKET)\n",
    "\n",
    "for page in pages:\n",
    "    if page.get('Contents'):\n",
    "        for obj in page['Contents']:\n",
    "            list_paginas.append(\n",
    "                {\n",
    "                    \"Key\":obj['Key'],\n",
    "                    \"LastModified\": obj['LastModified'],\n",
    "                    \"Type\": obj['Key'].split('/')[0]\n",
    "                }\n",
    "            )"
   ]
  },
  {
   "cell_type": "markdown",
   "id": "ccdeef81-e3d4-43aa-9db4-8f8394117853",
   "metadata": {
    "jp-MarkdownHeadingCollapsed": true
   },
   "source": [
    "### Crear DF Listas de Files"
   ]
  },
  {
   "cell_type": "code",
   "execution_count": 11,
   "id": "899d5b0c-974c-4791-9699-7050c3904e63",
   "metadata": {},
   "outputs": [],
   "source": [
    "df_files = pd.DataFrame(list_paginas)"
   ]
  },
  {
   "cell_type": "code",
   "execution_count": 13,
   "id": "2ba7d9dd-6a6b-4223-a2b6-ed688ae2522d",
   "metadata": {},
   "outputs": [
    {
     "data": {
      "text/plain": [
       "Type\n",
       "ComingSoon       2\n",
       "Content       3968\n",
       "Episodes      3968\n",
       "Sources          4\n",
       "Stats         3969\n",
       "Name: Key, dtype: int64"
      ]
     },
     "execution_count": 13,
     "metadata": {},
     "output_type": "execute_result"
    }
   ],
   "source": [
    "df_files.groupby('Type')['Key'].count()"
   ]
  },
  {
   "cell_type": "markdown",
   "id": "d9741f5d-400c-4c96-b09b-eaca692511c2",
   "metadata": {
    "jp-MarkdownHeadingCollapsed": true
   },
   "source": [
    "### Obtener Key"
   ]
  },
  {
   "cell_type": "code",
   "execution_count": 41,
   "id": "188cb1b7-ea1a-4072-aef9-840aacc971c4",
   "metadata": {},
   "outputs": [],
   "source": [
    "df_select = df_files[\n",
    "    (df_files['Key'].str.contains('es_hbomax'))&\n",
    "    (df_files['Type']=='Content')\n",
    "].sort_values('LastModified', ascending=False)"
   ]
  },
  {
   "cell_type": "code",
   "execution_count": 42,
   "id": "6c1205c9-2564-4ca0-b42c-0674df93e306",
   "metadata": {},
   "outputs": [
    {
     "data": {
      "text/plain": [
       "(1, 3)"
      ]
     },
     "execution_count": 42,
     "metadata": {},
     "output_type": "execute_result"
    }
   ],
   "source": [
    "df_select.shape"
   ]
  },
  {
   "cell_type": "code",
   "execution_count": 43,
   "id": "45818b26-3068-4c87-8a5c-dc063a843d0b",
   "metadata": {},
   "outputs": [
    {
     "data": {
      "text/html": [
       "<div>\n",
       "<style scoped>\n",
       "    .dataframe tbody tr th:only-of-type {\n",
       "        vertical-align: middle;\n",
       "    }\n",
       "\n",
       "    .dataframe tbody tr th {\n",
       "        vertical-align: top;\n",
       "    }\n",
       "\n",
       "    .dataframe thead th {\n",
       "        text-align: right;\n",
       "    }\n",
       "</style>\n",
       "<table border=\"1\" class=\"dataframe\">\n",
       "  <thead>\n",
       "    <tr style=\"text-align: right;\">\n",
       "      <th></th>\n",
       "      <th>Key</th>\n",
       "      <th>LastModified</th>\n",
       "      <th>Type</th>\n",
       "    </tr>\n",
       "  </thead>\n",
       "  <tbody>\n",
       "    <tr>\n",
       "      <th>1385</th>\n",
       "      <td>Content/latest/es_hbomax.jsonl</td>\n",
       "      <td>2025-04-07 14:45:55.646000+00:00</td>\n",
       "      <td>Content</td>\n",
       "    </tr>\n",
       "  </tbody>\n",
       "</table>\n",
       "</div>"
      ],
      "text/plain": [
       "                                 Key                     LastModified     Type\n",
       "1385  Content/latest/es_hbomax.jsonl 2025-04-07 14:45:55.646000+00:00  Content"
      ]
     },
     "execution_count": 43,
     "metadata": {},
     "output_type": "execute_result"
    }
   ],
   "source": [
    "df_select.head()"
   ]
  },
  {
   "cell_type": "code",
   "execution_count": 44,
   "id": "6ab6af8e-2b00-4378-9eda-cdb103640bcb",
   "metadata": {},
   "outputs": [],
   "source": [
    "file_list = list(df_select.Key.unique())"
   ]
  },
  {
   "cell_type": "code",
   "execution_count": 47,
   "id": "ca0d4a21-ee8c-43d8-afc8-ffbdb4449ca6",
   "metadata": {},
   "outputs": [
    {
     "data": {
      "text/plain": [
       "1"
      ]
     },
     "execution_count": 47,
     "metadata": {},
     "output_type": "execute_result"
    }
   ],
   "source": [
    "len(file_list)"
   ]
  },
  {
   "cell_type": "markdown",
   "id": "2688a308-02b0-496d-85e1-e8fd62cf37a9",
   "metadata": {
    "jp-MarkdownHeadingCollapsed": true
   },
   "source": [
    "### Cargar Archivos"
   ]
  },
  {
   "cell_type": "code",
   "execution_count": 48,
   "id": "0e7f3ab5-ecdf-4a9a-a643-245c6b15d52c",
   "metadata": {},
   "outputs": [],
   "source": [
    "frame = []"
   ]
  },
  {
   "cell_type": "code",
   "execution_count": 49,
   "id": "70ca636b-9c7d-43ea-96cc-96e9e8a64408",
   "metadata": {},
   "outputs": [],
   "source": [
    "for _key in file_list:\n",
    "    obj = client.get_object(Bucket=BUCKET, Key=_key)\n",
    "    data = obj['Body'].read()"
   ]
  },
  {
   "cell_type": "code",
   "execution_count": 50,
   "id": "dd96c701-b1f0-49e1-8049-377c5032959f",
   "metadata": {},
   "outputs": [],
   "source": [
    "df = pd.read_json(BytesIO(data), lines=True)"
   ]
  },
  {
   "cell_type": "code",
   "execution_count": 51,
   "id": "08eabdea-fa43-474b-b281-6fd4a29e4f42",
   "metadata": {},
   "outputs": [
    {
     "data": {
      "text/plain": [
       "(2254, 43)"
      ]
     },
     "execution_count": 51,
     "metadata": {},
     "output_type": "execute_result"
    }
   ],
   "source": [
    "df.shape"
   ]
  },
  {
   "cell_type": "code",
   "execution_count": 53,
   "id": "ddf10f81-91b3-452b-987b-020a5e1faef7",
   "metadata": {},
   "outputs": [
    {
     "data": {
      "text/plain": [
       "PlatformName  PlatformCountry\n",
       "Max           ES                 2254\n",
       "Name: PlatformId, dtype: int64"
      ]
     },
     "execution_count": 53,
     "metadata": {},
     "output_type": "execute_result"
    }
   ],
   "source": [
    "df.groupby(['PlatformName','PlatformCountry'])['PlatformId'].count()"
   ]
  },
  {
   "cell_type": "markdown",
   "id": "b8f7a0e8-e837-44f5-a5d4-4f806d0eb2af",
   "metadata": {
    "jp-MarkdownHeadingCollapsed": true
   },
   "source": [
    "### Abrir External Ids"
   ]
  },
  {
   "cell_type": "code",
   "execution_count": 59,
   "id": "97075f31-e39a-4325-b17b-282405f5dec1",
   "metadata": {},
   "outputs": [],
   "source": [
    "df_external_ids = df.explode('ExternalIds')"
   ]
  },
  {
   "cell_type": "code",
   "execution_count": 60,
   "id": "e15ee824-4bba-4a33-ae9c-dda8f3f0a750",
   "metadata": {},
   "outputs": [],
   "source": [
    "df_external_ids = df_external_ids[['PlatformName','PlatformCountry','Id','Title','Type','Year','Directors','Cast','ExternalIds','Deeplinks']]"
   ]
  },
  {
   "cell_type": "code",
   "execution_count": 66,
   "id": "c896b0e2-12e0-4204-b660-2da4d40d0c51",
   "metadata": {},
   "outputs": [],
   "source": [
    "df_external_ids['UniversalLink'] = df_external_ids['Deeplinks'].apply(lambda x : x.get('Web'))\n",
    "df_external_ids['ExternalId'] = df_external_ids['ExternalIds'].apply(lambda x : x.get('ID') if x else None)\n",
    "df_external_ids['ExternalProvider'] = df_external_ids['ExternalIds'].apply(lambda x : x.get('Provider') if x else None)\n",
    "df_external_ids['ExternalType'] = df_external_ids['ExternalIds'].apply(lambda x : x.get('ContentType') if x else None)"
   ]
  },
  {
   "cell_type": "code",
   "execution_count": 67,
   "id": "3fd811eb-4cc8-49e6-a3c6-b2f74d177b8a",
   "metadata": {},
   "outputs": [],
   "source": [
    "df_external_ids = df_external_ids.drop(columns=['Deeplinks','ExternalIds'])"
   ]
  },
  {
   "cell_type": "markdown",
   "id": "cdd42d3b-d617-4549-8274-d835b574c9ef",
   "metadata": {},
   "source": [
    "### Buscar por External Ids"
   ]
  },
  {
   "cell_type": "code",
   "execution_count": 77,
   "id": "a69226e0-342d-405d-a70d-ced146653d67",
   "metadata": {},
   "outputs": [
    {
     "data": {
      "text/html": [
       "<div>\n",
       "<style scoped>\n",
       "    .dataframe tbody tr th:only-of-type {\n",
       "        vertical-align: middle;\n",
       "    }\n",
       "\n",
       "    .dataframe tbody tr th {\n",
       "        vertical-align: top;\n",
       "    }\n",
       "\n",
       "    .dataframe thead th {\n",
       "        text-align: right;\n",
       "    }\n",
       "</style>\n",
       "<table border=\"1\" class=\"dataframe\">\n",
       "  <thead>\n",
       "    <tr style=\"text-align: right;\">\n",
       "      <th></th>\n",
       "      <th>PlatformName</th>\n",
       "      <th>PlatformCountry</th>\n",
       "      <th>Id</th>\n",
       "      <th>Title</th>\n",
       "      <th>Type</th>\n",
       "      <th>Year</th>\n",
       "      <th>Directors</th>\n",
       "      <th>Cast</th>\n",
       "      <th>UniversalLink</th>\n",
       "      <th>ExternalId</th>\n",
       "      <th>ExternalProvider</th>\n",
       "      <th>ExternalType</th>\n",
       "    </tr>\n",
       "  </thead>\n",
       "  <tbody>\n",
       "    <tr>\n",
       "      <th>2033</th>\n",
       "      <td>Max</td>\n",
       "      <td>ES</td>\n",
       "      <td>e6e7bad9-d48d-4434-b334-7c651ffc4bdf</td>\n",
       "      <td>The Pitt</td>\n",
       "      <td>Tv Show</td>\n",
       "      <td>2024.0</td>\n",
       "      <td>[R Scott Gemmill]</td>\n",
       "      <td>[Tracy Ifeachor, Fiona Dourif, Gerran Howell, ...</td>\n",
       "      <td>https://play.max.com/show/e6e7bad9-d48d-4434-b...</td>\n",
       "      <td>250307</td>\n",
       "      <td>tmdb</td>\n",
       "      <td>Tv Show</td>\n",
       "    </tr>\n",
       "  </tbody>\n",
       "</table>\n",
       "</div>"
      ],
      "text/plain": [
       "     PlatformName PlatformCountry                                    Id  \\\n",
       "2033          Max              ES  e6e7bad9-d48d-4434-b334-7c651ffc4bdf   \n",
       "\n",
       "         Title     Type    Year          Directors  \\\n",
       "2033  The Pitt  Tv Show  2024.0  [R Scott Gemmill]   \n",
       "\n",
       "                                                   Cast  \\\n",
       "2033  [Tracy Ifeachor, Fiona Dourif, Gerran Howell, ...   \n",
       "\n",
       "                                          UniversalLink ExternalId  \\\n",
       "2033  https://play.max.com/show/e6e7bad9-d48d-4434-b...     250307   \n",
       "\n",
       "     ExternalProvider ExternalType  \n",
       "2033             tmdb      Tv Show  "
      ]
     },
     "execution_count": 77,
     "metadata": {},
     "output_type": "execute_result"
    }
   ],
   "source": [
    "df_external_ids[\n",
    "    (df_external_ids['ExternalId']=='250307')&\n",
    "    (df_external_ids['ExternalProvider']=='tmdb')&\n",
    "    (df_external_ids['ExternalType']=='Tv Show')\n",
    "]"
   ]
  },
  {
   "cell_type": "markdown",
   "id": "e8329504-f3b1-4214-b632-0361e993b69a",
   "metadata": {},
   "source": [
    "### Buscar por Titulos"
   ]
  },
  {
   "cell_type": "code",
   "execution_count": 82,
   "id": "02937732-d3ed-4853-9f84-5d556667ad62",
   "metadata": {},
   "outputs": [
    {
     "data": {
      "text/html": [
       "<div>\n",
       "<style scoped>\n",
       "    .dataframe tbody tr th:only-of-type {\n",
       "        vertical-align: middle;\n",
       "    }\n",
       "\n",
       "    .dataframe tbody tr th {\n",
       "        vertical-align: top;\n",
       "    }\n",
       "\n",
       "    .dataframe thead th {\n",
       "        text-align: right;\n",
       "    }\n",
       "</style>\n",
       "<table border=\"1\" class=\"dataframe\">\n",
       "  <thead>\n",
       "    <tr style=\"text-align: right;\">\n",
       "      <th></th>\n",
       "      <th>PlatformName</th>\n",
       "      <th>PlatformCountry</th>\n",
       "      <th>Id</th>\n",
       "      <th>Title</th>\n",
       "      <th>Type</th>\n",
       "      <th>Year</th>\n",
       "      <th>Directors</th>\n",
       "      <th>Cast</th>\n",
       "      <th>UniversalLink</th>\n",
       "    </tr>\n",
       "  </thead>\n",
       "  <tbody>\n",
       "    <tr>\n",
       "      <th>2033</th>\n",
       "      <td>Max</td>\n",
       "      <td>ES</td>\n",
       "      <td>e6e7bad9-d48d-4434-b334-7c651ffc4bdf</td>\n",
       "      <td>The Pitt</td>\n",
       "      <td>Tv Show</td>\n",
       "      <td>2024.0</td>\n",
       "      <td>[R Scott Gemmill]</td>\n",
       "      <td>[Tracy Ifeachor, Fiona Dourif, Gerran Howell, ...</td>\n",
       "      <td>https://play.max.com/show/e6e7bad9-d48d-4434-b...</td>\n",
       "    </tr>\n",
       "  </tbody>\n",
       "</table>\n",
       "</div>"
      ],
      "text/plain": [
       "     PlatformName PlatformCountry                                    Id  \\\n",
       "2033          Max              ES  e6e7bad9-d48d-4434-b334-7c651ffc4bdf   \n",
       "\n",
       "         Title     Type    Year          Directors  \\\n",
       "2033  The Pitt  Tv Show  2024.0  [R Scott Gemmill]   \n",
       "\n",
       "                                                   Cast  \\\n",
       "2033  [Tracy Ifeachor, Fiona Dourif, Gerran Howell, ...   \n",
       "\n",
       "                                          UniversalLink  \n",
       "2033  https://play.max.com/show/e6e7bad9-d48d-4434-b...  "
      ]
     },
     "execution_count": 82,
     "metadata": {},
     "output_type": "execute_result"
    }
   ],
   "source": [
    "df_external_ids[df_external_ids['Title'].str.contains('The Pitt')]\\\n",
    "    .drop(columns=['ExternalProvider','ExternalType','ExternalId'])\\\n",
    "    .drop_duplicates(subset=['PlatformName','PlatformCountry','Id'])"
   ]
  }
 ],
 "metadata": {
  "kernelspec": {
   "display_name": "Python 3 (ipykernel)",
   "language": "python",
   "name": "python3"
  },
  "language_info": {
   "codemirror_mode": {
    "name": "ipython",
    "version": 3
   },
   "file_extension": ".py",
   "mimetype": "text/x-python",
   "name": "python",
   "nbconvert_exporter": "python",
   "pygments_lexer": "ipython3",
   "version": "3.11.8"
  }
 },
 "nbformat": 4,
 "nbformat_minor": 5
}
